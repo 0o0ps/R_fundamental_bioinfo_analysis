{
 "cells": [
  {
   "cell_type": "code",
   "execution_count": 7,
   "metadata": {},
   "outputs": [],
   "source": [
    "### env scanpy \n",
    "### date 240826\n",
    "##! 没有完成理解"
   ]
  },
  {
   "cell_type": "code",
   "execution_count": 1,
   "metadata": {},
   "outputs": [],
   "source": [
    "from sklearn.linear_model import Lasso\n"
   ]
  },
  {
   "cell_type": "code",
   "execution_count": null,
   "metadata": {},
   "outputs": [],
   "source": [
    "\n",
    "# 初始化Lasso回归器，默认使用坐标下降法\n",
    "reg = Lasso(alpha=0.1, fit_intercept=False)\n",
    "# 拟合线性模型\n",
    "reg.fit(X, y)\n",
    "# 权重系数\n",
    "w = reg.coef_\n"
   ]
  },
  {
   "cell_type": "code",
   "execution_count": 2,
   "metadata": {},
   "outputs": [],
   "source": [
    "# 导入必要的库\n",
    "from sklearn.linear_model import Lasso\n",
    "from sklearn.model_selection import train_test_split\n",
    "from sklearn.datasets import make_regression\n"
   ]
  },
  {
   "cell_type": "code",
   "execution_count": 3,
   "metadata": {},
   "outputs": [],
   "source": [
    "\n",
    "# 生成一些随机数据\n",
    "# n_samples 是样本数量，n_features 是特征数量\n",
    "X, y = make_regression(n_samples=100, n_features=2, noise=0.1)\n"
   ]
  },
  {
   "cell_type": "code",
   "execution_count": 6,
   "metadata": {},
   "outputs": [
    {
     "name": "stdout",
     "output_type": "stream",
     "text": [
      "模型的系数: [45.04456555 87.81486004]\n",
      "模型的评分: 0.9999957671202454\n"
     ]
    }
   ],
   "source": [
    "\n",
    "# 将数据分成训练集和测试集\n",
    "X_train, X_test, y_train, y_test = train_test_split(X, y, test_size=0.2, random_state=42)\n",
    "\n",
    "# 创建 Lasso 模型\n",
    "lasso = Lasso(alpha=0.1)\n",
    "\n",
    "# 用训练数据训练模型\n",
    "lasso.fit(X_train, y_train)\n",
    "\n",
    "# 输出模型的系数\n",
    "print(\"模型的系数:\", lasso.coef_)\n",
    "\n",
    "# 用测试数据评估模型的表现\n",
    "score = lasso.score(X_test, y_test)\n",
    "print(\"模型的评分:\", score)\n"
   ]
  }
 ],
 "metadata": {
  "kernelspec": {
   "display_name": "scanpy",
   "language": "python",
   "name": "scanpy"
  },
  "language_info": {
   "codemirror_mode": {
    "name": "ipython",
    "version": 3
   },
   "file_extension": ".py",
   "mimetype": "text/x-python",
   "name": "python",
   "nbconvert_exporter": "python",
   "pygments_lexer": "ipython3",
   "version": "3.11.9"
  }
 },
 "nbformat": 4,
 "nbformat_minor": 2
}
